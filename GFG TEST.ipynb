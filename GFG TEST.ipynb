{
 "cells": [
  {
   "cell_type": "code",
   "execution_count": 1,
   "id": "f6f1fd70",
   "metadata": {},
   "outputs": [],
   "source": [
    "import pandas as pd\n",
    "import numpy as np\n",
    "import matplotlib.pyplot as plt\n",
    "import seaborn as sns\n",
    "%matplotlib inline"
   ]
  },
  {
   "cell_type": "code",
   "execution_count": 2,
   "id": "a5629b63",
   "metadata": {},
   "outputs": [],
   "source": [
    "df=pd.read_csv(\"data.csv\")"
   ]
  },
  {
   "cell_type": "code",
   "execution_count": null,
   "id": "b41c1d93",
   "metadata": {},
   "outputs": [],
   "source": []
  },
  {
   "cell_type": "code",
   "execution_count": 3,
   "id": "38887406",
   "metadata": {},
   "outputs": [
    {
     "data": {
      "text/html": [
       "<div>\n",
       "<style scoped>\n",
       "    .dataframe tbody tr th:only-of-type {\n",
       "        vertical-align: middle;\n",
       "    }\n",
       "\n",
       "    .dataframe tbody tr th {\n",
       "        vertical-align: top;\n",
       "    }\n",
       "\n",
       "    .dataframe thead th {\n",
       "        text-align: right;\n",
       "    }\n",
       "</style>\n",
       "<table border=\"1\" class=\"dataframe\">\n",
       "  <thead>\n",
       "    <tr style=\"text-align: right;\">\n",
       "      <th></th>\n",
       "      <th>order_id</th>\n",
       "      <th>product</th>\n",
       "      <th>quantity</th>\n",
       "      <th>price</th>\n",
       "      <th>total</th>\n",
       "      <th>full_date</th>\n",
       "      <th>hour</th>\n",
       "      <th>date</th>\n",
       "      <th>month</th>\n",
       "      <th>year</th>\n",
       "      <th>day</th>\n",
       "      <th>address</th>\n",
       "      <th>city</th>\n",
       "      <th>state</th>\n",
       "      <th>pincode</th>\n",
       "      <th>timezone</th>\n",
       "    </tr>\n",
       "  </thead>\n",
       "  <tbody>\n",
       "    <tr>\n",
       "      <th>0</th>\n",
       "      <td>236670</td>\n",
       "      <td>Wired Headphones</td>\n",
       "      <td>2</td>\n",
       "      <td>11.99</td>\n",
       "      <td>23.98</td>\n",
       "      <td>08/31/19</td>\n",
       "      <td>22</td>\n",
       "      <td>31</td>\n",
       "      <td>8</td>\n",
       "      <td>2019</td>\n",
       "      <td>Sat</td>\n",
       "      <td>359 Spruce St</td>\n",
       "      <td>Seattle</td>\n",
       "      <td>WA</td>\n",
       "      <td>98101</td>\n",
       "      <td>PM</td>\n",
       "    </tr>\n",
       "    <tr>\n",
       "      <th>1</th>\n",
       "      <td>236671</td>\n",
       "      <td>Bose SoundSport Headphones</td>\n",
       "      <td>1</td>\n",
       "      <td>99.99</td>\n",
       "      <td>99.99</td>\n",
       "      <td>08/15/19</td>\n",
       "      <td>15</td>\n",
       "      <td>15</td>\n",
       "      <td>8</td>\n",
       "      <td>2019</td>\n",
       "      <td>Thu</td>\n",
       "      <td>492 Ridge St</td>\n",
       "      <td>Dallas</td>\n",
       "      <td>TX</td>\n",
       "      <td>75001</td>\n",
       "      <td>PM</td>\n",
       "    </tr>\n",
       "    <tr>\n",
       "      <th>2</th>\n",
       "      <td>236672</td>\n",
       "      <td>iPhone</td>\n",
       "      <td>1</td>\n",
       "      <td>700.00</td>\n",
       "      <td>700.00</td>\n",
       "      <td>08/06/19</td>\n",
       "      <td>14</td>\n",
       "      <td>6</td>\n",
       "      <td>8</td>\n",
       "      <td>2019</td>\n",
       "      <td>Tue</td>\n",
       "      <td>149 7th St</td>\n",
       "      <td>Portland</td>\n",
       "      <td>OR</td>\n",
       "      <td>97035</td>\n",
       "      <td>PM</td>\n",
       "    </tr>\n",
       "    <tr>\n",
       "      <th>3</th>\n",
       "      <td>236673</td>\n",
       "      <td>AA Batteries (4-pack)</td>\n",
       "      <td>2</td>\n",
       "      <td>3.84</td>\n",
       "      <td>7.68</td>\n",
       "      <td>08/29/19</td>\n",
       "      <td>20</td>\n",
       "      <td>29</td>\n",
       "      <td>8</td>\n",
       "      <td>2019</td>\n",
       "      <td>Thu</td>\n",
       "      <td>631 2nd St</td>\n",
       "      <td>Los Angeles</td>\n",
       "      <td>CA</td>\n",
       "      <td>90001</td>\n",
       "      <td>PM</td>\n",
       "    </tr>\n",
       "    <tr>\n",
       "      <th>4</th>\n",
       "      <td>236674</td>\n",
       "      <td>AA Batteries (4-pack)</td>\n",
       "      <td>2</td>\n",
       "      <td>3.84</td>\n",
       "      <td>7.68</td>\n",
       "      <td>08/15/19</td>\n",
       "      <td>19</td>\n",
       "      <td>15</td>\n",
       "      <td>8</td>\n",
       "      <td>2019</td>\n",
       "      <td>Thu</td>\n",
       "      <td>736 14th St</td>\n",
       "      <td>New York City</td>\n",
       "      <td>NY</td>\n",
       "      <td>10001</td>\n",
       "      <td>PM</td>\n",
       "    </tr>\n",
       "  </tbody>\n",
       "</table>\n",
       "</div>"
      ],
      "text/plain": [
       "   order_id                     product  quantity   price   total full_date  \\\n",
       "0    236670            Wired Headphones         2   11.99   23.98  08/31/19   \n",
       "1    236671  Bose SoundSport Headphones         1   99.99   99.99  08/15/19   \n",
       "2    236672                      iPhone         1  700.00  700.00  08/06/19   \n",
       "3    236673       AA Batteries (4-pack)         2    3.84    7.68  08/29/19   \n",
       "4    236674       AA Batteries (4-pack)         2    3.84    7.68  08/15/19   \n",
       "\n",
       "   hour  date  month  year  day        address           city state  pincode  \\\n",
       "0    22    31      8  2019  Sat  359 Spruce St        Seattle    WA    98101   \n",
       "1    15    15      8  2019  Thu   492 Ridge St         Dallas    TX    75001   \n",
       "2    14     6      8  2019  Tue     149 7th St       Portland    OR    97035   \n",
       "3    20    29      8  2019  Thu     631 2nd St    Los Angeles    CA    90001   \n",
       "4    19    15      8  2019  Thu    736 14th St  New York City    NY    10001   \n",
       "\n",
       "  timezone  \n",
       "0       PM  \n",
       "1       PM  \n",
       "2       PM  \n",
       "3       PM  \n",
       "4       PM  "
      ]
     },
     "execution_count": 3,
     "metadata": {},
     "output_type": "execute_result"
    }
   ],
   "source": [
    "df.head()"
   ]
  },
  {
   "cell_type": "code",
   "execution_count": 4,
   "id": "a4669164",
   "metadata": {},
   "outputs": [
    {
     "data": {
      "text/plain": [
       "(185950, 16)"
      ]
     },
     "execution_count": 4,
     "metadata": {},
     "output_type": "execute_result"
    }
   ],
   "source": [
    "df.shape"
   ]
  },
  {
   "cell_type": "code",
   "execution_count": 5,
   "id": "f7aa4f60",
   "metadata": {},
   "outputs": [],
   "source": [
    "df=df.drop([\"order_id\",\"pincode\"],axis=1) #As Order Id  is nothing but a unique id given to each product.Also pincode is the unique code for each city which may be of no use"
   ]
  },
  {
   "cell_type": "code",
   "execution_count": 6,
   "id": "1da91d30",
   "metadata": {},
   "outputs": [
    {
     "name": "stdout",
     "output_type": "stream",
     "text": [
      "<class 'pandas.core.frame.DataFrame'>\n",
      "RangeIndex: 185950 entries, 0 to 185949\n",
      "Data columns (total 14 columns):\n",
      " #   Column     Non-Null Count   Dtype  \n",
      "---  ------     --------------   -----  \n",
      " 0   product    185950 non-null  object \n",
      " 1   quantity   185950 non-null  int64  \n",
      " 2   price      185950 non-null  float64\n",
      " 3   total      185950 non-null  float64\n",
      " 4   full_date  185950 non-null  object \n",
      " 5   hour       185950 non-null  int64  \n",
      " 6   date       185950 non-null  int64  \n",
      " 7   month      185950 non-null  int64  \n",
      " 8   year       185950 non-null  int64  \n",
      " 9   day        185950 non-null  object \n",
      " 10  address    185950 non-null  object \n",
      " 11  city       185950 non-null  object \n",
      " 12  state      185950 non-null  object \n",
      " 13  timezone   185950 non-null  object \n",
      "dtypes: float64(2), int64(5), object(7)\n",
      "memory usage: 19.9+ MB\n"
     ]
    }
   ],
   "source": [
    "df.info()"
   ]
  },
  {
   "cell_type": "code",
   "execution_count": 7,
   "id": "c3b83a05",
   "metadata": {},
   "outputs": [
    {
     "data": {
      "text/html": [
       "<div>\n",
       "<style scoped>\n",
       "    .dataframe tbody tr th:only-of-type {\n",
       "        vertical-align: middle;\n",
       "    }\n",
       "\n",
       "    .dataframe tbody tr th {\n",
       "        vertical-align: top;\n",
       "    }\n",
       "\n",
       "    .dataframe thead th {\n",
       "        text-align: right;\n",
       "    }\n",
       "</style>\n",
       "<table border=\"1\" class=\"dataframe\">\n",
       "  <thead>\n",
       "    <tr style=\"text-align: right;\">\n",
       "      <th></th>\n",
       "      <th>quantity</th>\n",
       "      <th>price</th>\n",
       "      <th>total</th>\n",
       "      <th>hour</th>\n",
       "      <th>date</th>\n",
       "      <th>month</th>\n",
       "      <th>year</th>\n",
       "    </tr>\n",
       "  </thead>\n",
       "  <tbody>\n",
       "    <tr>\n",
       "      <th>count</th>\n",
       "      <td>185950.000000</td>\n",
       "      <td>185950.000000</td>\n",
       "      <td>185950.000000</td>\n",
       "      <td>185950.000000</td>\n",
       "      <td>185950.000000</td>\n",
       "      <td>185950.000000</td>\n",
       "      <td>185950.000000</td>\n",
       "    </tr>\n",
       "    <tr>\n",
       "      <th>mean</th>\n",
       "      <td>1.124383</td>\n",
       "      <td>184.399735</td>\n",
       "      <td>185.490917</td>\n",
       "      <td>14.413305</td>\n",
       "      <td>15.759532</td>\n",
       "      <td>7.059140</td>\n",
       "      <td>2019.000183</td>\n",
       "    </tr>\n",
       "    <tr>\n",
       "      <th>std</th>\n",
       "      <td>0.442793</td>\n",
       "      <td>332.731330</td>\n",
       "      <td>332.919771</td>\n",
       "      <td>5.423416</td>\n",
       "      <td>8.782176</td>\n",
       "      <td>3.502996</td>\n",
       "      <td>0.013521</td>\n",
       "    </tr>\n",
       "    <tr>\n",
       "      <th>min</th>\n",
       "      <td>1.000000</td>\n",
       "      <td>2.990000</td>\n",
       "      <td>2.990000</td>\n",
       "      <td>0.000000</td>\n",
       "      <td>1.000000</td>\n",
       "      <td>1.000000</td>\n",
       "      <td>2019.000000</td>\n",
       "    </tr>\n",
       "    <tr>\n",
       "      <th>25%</th>\n",
       "      <td>1.000000</td>\n",
       "      <td>11.950000</td>\n",
       "      <td>11.950000</td>\n",
       "      <td>11.000000</td>\n",
       "      <td>8.000000</td>\n",
       "      <td>4.000000</td>\n",
       "      <td>2019.000000</td>\n",
       "    </tr>\n",
       "    <tr>\n",
       "      <th>50%</th>\n",
       "      <td>1.000000</td>\n",
       "      <td>14.950000</td>\n",
       "      <td>14.950000</td>\n",
       "      <td>15.000000</td>\n",
       "      <td>16.000000</td>\n",
       "      <td>7.000000</td>\n",
       "      <td>2019.000000</td>\n",
       "    </tr>\n",
       "    <tr>\n",
       "      <th>75%</th>\n",
       "      <td>1.000000</td>\n",
       "      <td>150.000000</td>\n",
       "      <td>150.000000</td>\n",
       "      <td>19.000000</td>\n",
       "      <td>23.000000</td>\n",
       "      <td>10.000000</td>\n",
       "      <td>2019.000000</td>\n",
       "    </tr>\n",
       "    <tr>\n",
       "      <th>max</th>\n",
       "      <td>9.000000</td>\n",
       "      <td>1700.000000</td>\n",
       "      <td>3400.000000</td>\n",
       "      <td>23.000000</td>\n",
       "      <td>31.000000</td>\n",
       "      <td>12.000000</td>\n",
       "      <td>2020.000000</td>\n",
       "    </tr>\n",
       "  </tbody>\n",
       "</table>\n",
       "</div>"
      ],
      "text/plain": [
       "            quantity          price          total           hour  \\\n",
       "count  185950.000000  185950.000000  185950.000000  185950.000000   \n",
       "mean        1.124383     184.399735     185.490917      14.413305   \n",
       "std         0.442793     332.731330     332.919771       5.423416   \n",
       "min         1.000000       2.990000       2.990000       0.000000   \n",
       "25%         1.000000      11.950000      11.950000      11.000000   \n",
       "50%         1.000000      14.950000      14.950000      15.000000   \n",
       "75%         1.000000     150.000000     150.000000      19.000000   \n",
       "max         9.000000    1700.000000    3400.000000      23.000000   \n",
       "\n",
       "                date          month           year  \n",
       "count  185950.000000  185950.000000  185950.000000  \n",
       "mean       15.759532       7.059140    2019.000183  \n",
       "std         8.782176       3.502996       0.013521  \n",
       "min         1.000000       1.000000    2019.000000  \n",
       "25%         8.000000       4.000000    2019.000000  \n",
       "50%        16.000000       7.000000    2019.000000  \n",
       "75%        23.000000      10.000000    2019.000000  \n",
       "max        31.000000      12.000000    2020.000000  "
      ]
     },
     "execution_count": 7,
     "metadata": {},
     "output_type": "execute_result"
    }
   ],
   "source": [
    "df.describe()"
   ]
  },
  {
   "cell_type": "markdown",
   "id": "badbf58d",
   "metadata": {},
   "source": [
    "# Q1. What is the 4th highest product sold in terms of total revenue generated overall ?"
   ]
  },
  {
   "cell_type": "code",
   "execution_count": 32,
   "id": "1ecf7de5",
   "metadata": {},
   "outputs": [
    {
     "data": {
      "text/plain": [
       "product\n",
       "Google Phone    3319200.0\n",
       "Name: total, dtype: float64"
      ]
     },
     "execution_count": 32,
     "metadata": {},
     "output_type": "execute_result"
    }
   ],
   "source": [
    "df.groupby(\"product\")[\"total\"].sum().sort_values(ascending=False)[3:4]"
   ]
  },
  {
   "cell_type": "code",
   "execution_count": 9,
   "id": "357f61fc",
   "metadata": {},
   "outputs": [
    {
     "data": {
      "image/png": "[encoded data removed]",
      "text/plain": [
       "<Figure size 720x864 with 1 Axes>"
      ]
     },
     "metadata": {
      "needs_background": "light"
     },
     "output_type": "display_data"
    }
   ],
   "source": [
    "plt.figure(figsize=(10,12))\n",
    "ax=df.groupby(\"product\")[\"total\"].sum().sort_values(ascending=False).plot.bar()\n",
    "ax.bar_label(ax.containers[0])\n",
    "plt.show()"
   ]
  },
  {
   "cell_type": "markdown",
   "id": "9b4dfe15",
   "metadata": {},
   "source": [
    "# Q2. Which City sees the maximum number of orders being placed in the month of June 2019?\n"
   ]
  },
  {
   "cell_type": "code",
   "execution_count": 10,
   "id": "f66f4a82",
   "metadata": {},
   "outputs": [
    {
     "data": {
      "text/plain": [
       "San Francisco    3303\n",
       "Name: city, dtype: int64"
      ]
     },
     "execution_count": 10,
     "metadata": {},
     "output_type": "execute_result"
    }
   ],
   "source": [
    "df.loc[(df.month==6)&(df.year==2019),\"city\"].value_counts().head(1)"
   ]
  },
  {
   "cell_type": "code",
   "execution_count": 11,
   "id": "e0ed2812",
   "metadata": {},
   "outputs": [
    {
     "data": {
      "image/png": "[encoded data removed]",
      "text/plain": [
       "<Figure size 432x288 with 1 Axes>"
      ]
     },
     "metadata": {
      "needs_background": "light"
     },
     "output_type": "display_data"
    }
   ],
   "source": [
    "ax=df.loc[(df.month==6)&(df.year==2019),\"city\"].value_counts().plot.bar()\n",
    "ax.bar_label(ax.containers[0])\n",
    "plt.show()"
   ]
  },
  {
   "cell_type": "markdown",
   "id": "b38f5d45",
   "metadata": {},
   "source": [
    "# Q3. What is the least popular product in terms of unique orders in the city of Los Angeles. ?\n"
   ]
  },
  {
   "cell_type": "code",
   "execution_count": 12,
   "id": "59df556e",
   "metadata": {},
   "outputs": [
    {
     "data": {
      "text/plain": [
       "LG Washing Machine    105\n",
       "Name: product, dtype: int64"
      ]
     },
     "execution_count": 12,
     "metadata": {},
     "output_type": "execute_result"
    }
   ],
   "source": [
    "df.loc[df.city==\"Los Angeles\",\"product\"].value_counts().tail(1)"
   ]
  },
  {
   "cell_type": "code",
   "execution_count": 13,
   "id": "5725c08b",
   "metadata": {},
   "outputs": [
    {
     "data": {
      "image/png": "[encoded data removed]",
      "text/plain": [
       "<Figure size 720x864 with 1 Axes>"
      ]
     },
     "metadata": {
      "needs_background": "light"
     },
     "output_type": "display_data"
    }
   ],
   "source": [
    "plt.figure(figsize=(10,12))\n",
    "ax=df.loc[df.city==\"Los Angeles\",\"product\"].value_counts().plot.bar()\n",
    "ax.bar_label(ax.containers[0])\n",
    "plt.show()"
   ]
  },
  {
   "cell_type": "markdown",
   "id": "824a6e9f",
   "metadata": {},
   "source": [
    "# Q4. Which state has the highest revenue generated from all the apple products in year 2019?\n"
   ]
  },
  {
   "cell_type": "code",
   "execution_count": 14,
   "id": "883c88b7",
   "metadata": {},
   "outputs": [
    {
     "data": {
      "text/plain": [
       "state\n",
       "CA    3207900.0\n",
       "NY    1116900.0\n",
       "TX    1074400.0\n",
       "MA     814300.0\n",
       "GA     644300.0\n",
       "WA     605200.0\n",
       "OR     465800.0\n",
       "ME     107100.0\n",
       "Name: total, dtype: float64"
      ]
     },
     "execution_count": 14,
     "metadata": {},
     "output_type": "execute_result"
    }
   ],
   "source": [
    "Apple_products=[\"Apple Airpods Headphones\",\"iPhone\",\"Macbook Pro Laptop\"]\n",
    "for i in Apple_products:\n",
    "    dtf=df.loc[(df[\"product\"]==i)&(df.year==2019),[\"total\",\"state\",\"price\"]]\n",
    "dtf.groupby(\"state\")[\"total\"].sum().sort_values(ascending=False)"
   ]
  },
  {
   "cell_type": "code",
   "execution_count": 15,
   "id": "0d1d6662",
   "metadata": {},
   "outputs": [
    {
     "data": {
      "text/plain": [
       "<AxesSubplot:xlabel='state'>"
      ]
     },
     "execution_count": 15,
     "metadata": {},
     "output_type": "execute_result"
    },
    {
     "data": {
      "image/png": "[encoded data removed]",
      "text/plain": [
       "<Figure size 432x288 with 1 Axes>"
      ]
     },
     "metadata": {
      "needs_background": "light"
     },
     "output_type": "display_data"
    }
   ],
   "source": [
    "dtf.groupby(\"state\")[\"total\"].sum().sort_values(ascending=False).plot.bar()"
   ]
  },
  {
   "cell_type": "code",
   "execution_count": null,
   "id": "d8bbd2c8",
   "metadata": {},
   "outputs": [],
   "source": []
  },
  {
   "cell_type": "markdown",
   "id": "35572d8a",
   "metadata": {},
   "source": [
    "# Q5.What is the difference of revenue generated between weekend and weekday in the state of CA ?"
   ]
  },
  {
   "cell_type": "code",
   "execution_count": 16,
   "id": "250b9e92",
   "metadata": {},
   "outputs": [
    {
     "name": "stdout",
     "output_type": "stream",
     "text": [
      "The differnce of total revenue generated is: 32768.48\n"
     ]
    }
   ],
   "source": [
    "weekday=[\"Mon\",\"Tue\",\"Wed\",\"Thu\"]\n",
    "weekends=[\"Fri\",\"Sat\",\"Sun\"]\n",
    "for i in weekday:\n",
    "    ddf_wkd=df.loc[df.day==i,[\"total\",\"state\"]]\n",
    "for j in weekends:\n",
    "    ddf_wknd=df.loc[df.day==j,[\"total\",\"state\"]]\n",
    "wk_rv=ddf_wkd.loc[df.state==\"CA\",\"total\"].sum().round(2)\n",
    "wknd_rv=ddf_wknd.loc[df.state==\"CA\",\"total\"].sum().round(2)\n",
    "if(wk_rv>wknd_rv):\n",
    "    total_rv=wk_rv-wknd_rv\n",
    "else:\n",
    "     total_rv=wknd_rv-wk_rv\n",
    "        \n",
    "print(\"The differnce of total revenue generated is:\",total_rv.round(2))"
   ]
  },
  {
   "cell_type": "markdown",
   "id": "bd6e82f7",
   "metadata": {},
   "source": [
    "# Q6. Which city has seen the overall least orders in night hours in the months of May, June and July 2019. \n"
   ]
  },
  {
   "cell_type": "code",
   "execution_count": 17,
   "id": "bc18331b",
   "metadata": {},
   "outputs": [
    {
     "data": {
      "text/plain": [
       "city  \n",
       "Austin    743\n",
       "dtype: int64"
      ]
     },
     "execution_count": 17,
     "metadata": {},
     "output_type": "execute_result"
    }
   ],
   "source": [
    "ddf=df.loc[((df.hour>=18)&(df.hour<=24))&(df.year==2019),[\"city\",\"month\",\"total\",\"year\"]]\n",
    "ddf.loc[(df.month>=5)&(df.month<=7),[\"city\"]].value_counts().tail(1)"
   ]
  },
  {
   "cell_type": "code",
   "execution_count": 18,
   "id": "e0f8b9e9",
   "metadata": {},
   "outputs": [
    {
     "data": {
      "text/plain": [
       "<AxesSubplot:xlabel='city'>"
      ]
     },
     "execution_count": 18,
     "metadata": {},
     "output_type": "execute_result"
    },
    {
     "data": {
      "image/png": "[encoded data removed]",
      "text/plain": [
       "<Figure size 432x288 with 1 Axes>"
      ]
     },
     "metadata": {
      "needs_background": "light"
     },
     "output_type": "display_data"
    }
   ],
   "source": [
    "ddf.loc[(df.month>=5)&(df.month<=7),[\"city\"]].value_counts().plot.bar()"
   ]
  },
  {
   "cell_type": "markdown",
   "id": "4059b996",
   "metadata": {},
   "source": [
    "# Q7. Is “Google Phone” better performing in respect to overall number of orders placed as well as revenue generated than “iphone” in “New York City” ?\n"
   ]
  },
  {
   "cell_type": "code",
   "execution_count": 19,
   "id": "f997d48c",
   "metadata": {},
   "outputs": [],
   "source": [
    "df_iphone=df.loc[(df[\"product\"]==\"iPhone\")&(df.city==\"New York City\"),[\"city\",\"product\",\"total\"]].agg({\"total\":\"sum\"}).values\n",
    "df_gphone=df.loc[(df[\"product\"]==\"Google Phone\")&(df.city==\"New York City\"),[\"city\",\"product\",\"total\"]].agg({\"total\":\"sum\"}).values\n",
    "df_iphone_order=df.loc[(df[\"product\"]==\"iPhone\")&(df.city==\"New York City\"),[\"city\",\"product\",\"total\"]].value_counts().values\n",
    "df_gphone_order=df.loc[(df[\"product\"]==\"Google Phone\")&(df.city==\"New York City\"),[\"city\",\"product\",\"total\"]].value_counts().values"
   ]
  },
  {
   "cell_type": "code",
   "execution_count": 20,
   "id": "cb80ba56",
   "metadata": {},
   "outputs": [
    {
     "name": "stdout",
     "output_type": "stream",
     "text": [
      "Iphone has  123  more order than google phone and earns  15.10965935604293 % of more revenue tha google phone in NY\n"
     ]
    }
   ],
   "source": [
    "tt_rev=((int(df_iphone)-int(df_gphone))*100)/((int(df_iphone)+int(df_gphone)))\n",
    "tt_order=((int(df_iphone_order))-(int(df_gphone_order)))\n",
    "print(\"Iphone has \",tt_order,\" more order than google phone and earns \",tt_rev,\"% of more revenue tha google phone in NY\")"
   ]
  },
  {
   "cell_type": "markdown",
   "id": "9931081f",
   "metadata": {},
   "source": [
    "# Q8. What is the absolute difference in total number of unique orders being created in the cities of “Boston” and “Portland” for the month of Jan in both years 2019 & 2020 ?\n"
   ]
  },
  {
   "cell_type": "code",
   "execution_count": 21,
   "id": "1ffc8bcc",
   "metadata": {},
   "outputs": [],
   "source": [
    "prt=pd.DataFrame(df.loc[(df.city==\"Boston\")&(df.month==1),\"product\"].value_counts())"
   ]
  },
  {
   "cell_type": "code",
   "execution_count": 22,
   "id": "d4311e02",
   "metadata": {},
   "outputs": [],
   "source": [
    "bst=pd.DataFrame(df.loc[(df.city==\"Portland\")&(df.month==1),\"product\"].value_counts())"
   ]
  },
  {
   "cell_type": "code",
   "execution_count": 23,
   "id": "07b2fe09",
   "metadata": {},
   "outputs": [
    {
     "name": "stdout",
     "output_type": "stream",
     "text": [
      "                            product\n",
      "20in Monitor                    1.0\n",
      "27in 4K Gaming Monitor          1.0\n",
      "27in FHD Monitor               19.0\n",
      "34in Ultrawide Monitor         11.0\n",
      "AA Batteries (4-pack)          44.0\n",
      "AAA Batteries (4-pack)         58.0\n",
      "Apple Airpods Headphones       13.0\n",
      "Bose SoundSport Headphones     60.0\n",
      "Flatscreen TV                   9.0\n",
      "Google Phone                   14.0\n",
      "LG Dryer                        5.0\n",
      "LG Washing Machine              NaN\n",
      "Lightning Charging Cable       52.0\n",
      "Macbook Pro Laptop             19.0\n",
      "ThinkPad Laptop                 4.0\n",
      "USB-C Charging Cable           46.0\n",
      "Vareebadd Phone                 0.0\n",
      "Wired Headphones               44.0\n",
      "iPhone                         21.0\n"
     ]
    }
   ],
   "source": [
    "n_df=prt-bst   #The Product Column Below display the difference in value counts of the orders of product in boston and portland\n",
    "print(n_df)"
   ]
  },
  {
   "cell_type": "markdown",
   "id": "c37f761e",
   "metadata": {},
   "source": [
    "# Q9. Plot pie chart for 4 categories based on their total revenue generated. "
   ]
  },
  {
   "cell_type": "code",
   "execution_count": 24,
   "id": "7a9d17f2",
   "metadata": {},
   "outputs": [],
   "source": [
    "weekday=[\"Mon\",\"Tue\",\"Wed\",\"Thu\"]\n",
    "weekends=[\"Fri\",\"Sat\",\"Sun\"]\n",
    "for i in weekday:\n",
    "    ddf_wkd1=df.loc[df.day==i,[\"total\",\"state\",\"hour\"]]\n",
    "for j in weekends:\n",
    "    ddf_wknd1=df.loc[df.day==j,[\"total\",\"state\",\"hour\"]]"
   ]
  },
  {
   "cell_type": "code",
   "execution_count": 25,
   "id": "e541725c",
   "metadata": {},
   "outputs": [],
   "source": [
    "ddf_wkd1[\"cat\"]=ddf_wkd1.apply(lambda x:\"WeekDayNight\" if (x[\"hour\"]>=18)&(x[\"hour\"]<=24) else \"WeekDay\",axis=1)\n",
    "ddf_wknd1[\"cat\"]=ddf_wknd1.apply(lambda x:\"WeekEndNight\" if (x[\"hour\"]>=18)&(x[\"hour\"]<=24) else \"WeekEndDay\",axis=1)"
   ]
  },
  {
   "cell_type": "code",
   "execution_count": 26,
   "id": "b7e81713",
   "metadata": {},
   "outputs": [],
   "source": [
    "new_df=pd.concat([ddf_wkd1,ddf_wknd1]).reset_index(drop=True)\n",
    "val=new_df.groupby(\"cat\")[\"total\"].sum().values\n",
    "index=new_df.groupby(\"cat\")[\"total\"].sum().index"
   ]
  },
  {
   "cell_type": "code",
   "execution_count": 27,
   "id": "fcb0faa3",
   "metadata": {},
   "outputs": [
    {
     "data": {
      "image/png": "[encoded data removed]",
      "text/plain": [
       "<Figure size 720x360 with 1 Axes>"
      ]
     },
     "metadata": {},
     "output_type": "display_data"
    }
   ],
   "source": [
    "plt.figure(figsize=(10,5))\n",
    "plt.pie(val,labels=index,autopct=\"%1.2f%%\")\n",
    "plt.show()"
   ]
  },
  {
   "cell_type": "markdown",
   "id": "f508ebc7",
   "metadata": {},
   "source": [
    "# Q10. Plot violin plot between above respective 13 categories of unique year month combinationsMonth_Year ( 1_2019 , 2_2019 …. 1_2020) along side the number of orders being placed. Write down the inferences according to the graph. "
   ]
  },
  {
   "cell_type": "code",
   "execution_count": 28,
   "id": "54e8db4e",
   "metadata": {},
   "outputs": [],
   "source": [
    "d_f=pd.DataFrame(df.groupby([\"year\",\"month\"])[\"quantity\"].sum()).reset_index()"
   ]
  },
  {
   "cell_type": "code",
   "execution_count": 29,
   "id": "a13be0d9",
   "metadata": {},
   "outputs": [
    {
     "data": {
      "image/png": "[encoded data removed]",
      "text/plain": [
       "<Figure size 864x360 with 1 Axes>"
      ]
     },
     "metadata": {
      "needs_background": "light"
     },
     "output_type": "display_data"
    }
   ],
   "source": [
    "plt.figure(figsize=(12,5))\n",
    "sns.violinplot(data=d_f,x=\"year\",y=\"quantity\",hue=\"month\")\n",
    "plt.show()"
   ]
  },
  {
   "cell_type": "code",
   "execution_count": 30,
   "id": "de66c630",
   "metadata": {},
   "outputs": [
    {
     "data": {
      "text/plain": [
       "<AxesSubplot:xlabel='year', ylabel='quantity'>"
      ]
     },
     "execution_count": 30,
     "metadata": {},
     "output_type": "execute_result"
    },
    {
     "data": {
      "image/png": "[encoded data removed]",
      "text/plain": [
       "<Figure size 432x288 with 1 Axes>"
      ]
     },
     "metadata": {
      "needs_background": "light"
     },
     "output_type": "display_data"
    }
   ],
   "source": [
    "sns.violinplot(data=d_f,x=\"year\",y=\"quantity\")"
   ]
  },
  {
   "cell_type": "markdown",
   "id": "5a88f8e9",
   "metadata": {},
   "source": [
    "Infrences:\n",
    "From both graphs above.\n",
    "1. The Median value for order quantity is between 15,000 to 20,000 approx 17,500(rough figure).\n",
    "2. Less Number of orders are placed in january 2020 comparing to january 2019 maybe because of covid.\n",
    "3. The upper outlier for the year 2019 has a higher value.\n",
    "4. Larger Value of IQR and existence of a bigger outlier may be due to the order placed in month of December 2019.\n",
    "5. The Order's Show a nearly same trend during june and july and also during september and october"
   ]
  },
  {
   "cell_type": "code",
   "execution_count": 31,
   "id": "6c032c29",
   "metadata": {},
   "outputs": [
    {
     "data": {
      "text/plain": [
       "year         2019.0\n",
       "month           6.0\n",
       "quantity    16072.0\n",
       "dtype: float64"
      ]
     },
     "execution_count": 31,
     "metadata": {},
     "output_type": "execute_result"
    }
   ],
   "source": [
    "d_f.median()"
   ]
  },
  {
   "cell_type": "code",
   "execution_count": null,
   "id": "461eb5e0",
   "metadata": {},
   "outputs": [],
   "source": []
  },
  {
   "cell_type": "code",
   "execution_count": null,
   "id": "2578c6ba",
   "metadata": {},
   "outputs": [],
   "source": []
  },
  {
   "cell_type": "code",
   "execution_count": null,
   "id": "8f8647cf",
   "metadata": {},
   "outputs": [],
   "source": []
  },
  {
   "cell_type": "code",
   "execution_count": null,
   "id": "536af103",
   "metadata": {},
   "outputs": [],
   "source": []
  },
  {
   "cell_type": "code",
   "execution_count": null,
   "id": "a840a2e8",
   "metadata": {},
   "outputs": [],
   "source": []
  },
  {
   "cell_type": "code",
   "execution_count": null,
   "id": "02610d4f",
   "metadata": {},
   "outputs": [],
   "source": []
  },
  {
   "cell_type": "code",
   "execution_count": null,
   "id": "219b0db9",
   "metadata": {},
   "outputs": [],
   "source": []
  },
  {
   "cell_type": "code",
   "execution_count": null,
   "id": "f95649a4",
   "metadata": {},
   "outputs": [],
   "source": []
  },
  {
   "cell_type": "code",
   "execution_count": null,
   "id": "b98d8423",
   "metadata": {},
   "outputs": [],
   "source": []
  },
  {
   "cell_type": "code",
   "execution_count": null,
   "id": "04c550d5",
   "metadata": {},
   "outputs": [],
   "source": []
  },
  {
   "cell_type": "code",
   "execution_count": null,
   "id": "5172e02b",
   "metadata": {},
   "outputs": [],
   "source": []
  },
  {
   "cell_type": "code",
   "execution_count": null,
   "id": "f1435292",
   "metadata": {},
   "outputs": [],
   "source": []
  },
  {
   "cell_type": "code",
   "execution_count": null,
   "id": "bbf70459",
   "metadata": {},
   "outputs": [],
   "source": []
  },
  {
   "cell_type": "code",
   "execution_count": null,
   "id": "61641939",
   "metadata": {},
   "outputs": [],
   "source": []
  },
  {
   "cell_type": "code",
   "execution_count": null,
   "id": "67110a9a",
   "metadata": {},
   "outputs": [],
   "source": []
  },
  {
   "cell_type": "code",
   "execution_count": null,
   "id": "6a0bdbae",
   "metadata": {},
   "outputs": [],
   "source": []
  },
  {
   "cell_type": "code",
   "execution_count": null,
   "id": "c8027447",
   "metadata": {},
   "outputs": [],
   "source": []
  },
  {
   "cell_type": "code",
   "execution_count": null,
   "id": "1f117f6a",
   "metadata": {},
   "outputs": [],
   "source": []
  },
  {
   "cell_type": "code",
   "execution_count": null,
   "id": "e529350a",
   "metadata": {},
   "outputs": [],
   "source": []
  },
  {
   "cell_type": "code",
   "execution_count": null,
   "id": "af4ca98b",
   "metadata": {},
   "outputs": [],
   "source": []
  },
  {
   "cell_type": "code",
   "execution_count": null,
   "id": "01f276be",
   "metadata": {},
   "outputs": [],
   "source": []
  },
  {
   "cell_type": "code",
   "execution_count": null,
   "id": "73e24ea9",
   "metadata": {},
   "outputs": [],
   "source": []
  },
  {
   "cell_type": "code",
   "execution_count": null,
   "id": "d46fea6e",
   "metadata": {},
   "outputs": [],
   "source": []
  }
 ],
 "metadata": {
  "kernelspec": {
   "display_name": "Python 3 (ipykernel)",
   "language": "python",
   "name": "python3"
  },
  "language_info": {
   "codemirror_mode": {
    "name": "ipython",
    "version": 3
   },
   "file_extension": ".py",
   "mimetype": "text/x-python",
   "name": "python",
   "nbconvert_exporter": "python",
   "pygments_lexer": "ipython3",
   "version": "3.9.7"
  }
 },
 "nbformat": 4,
 "nbformat_minor": 5
}
